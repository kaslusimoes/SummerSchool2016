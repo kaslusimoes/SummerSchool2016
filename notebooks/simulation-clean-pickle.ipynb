{
 "cells": [
  {
   "cell_type": "code",
   "execution_count": 1,
   "metadata": {
    "collapsed": false
   },
   "outputs": [
    {
     "name": "stderr",
     "output_type": "stream",
     "text": [
      "/usr/lib/python2.7/site-packages/matplotlib/font_manager.py:273: UserWarning: Matplotlib is building the font cache using fc-list. This may take a moment.\n",
      "  warnings.warn('Matplotlib is building the font cache using fc-list. This may take a moment.')\n"
     ]
    }
   ],
   "source": [
    "import numpy as np\n",
    "import networkx as nx\n",
    "import matplotlib.pyplot as plt\n",
    "import random as rd\n",
    "from pickle import dump\n",
    "%matplotlib inline "
   ]
  },
  {
   "cell_type": "code",
   "execution_count": 2,
   "metadata": {
    "collapsed": false
   },
   "outputs": [],
   "source": [
    "class Data:\n",
    "    def __init__(self):\n",
    "        self.m_list1 = []\n",
    "        self.m_list2 = []"
   ]
  },
  {
   "cell_type": "code",
   "execution_count": 3,
   "metadata": {
    "collapsed": false
   },
   "outputs": [],
   "source": [
    "N = 100\n",
    "M = 100\n",
    "MAX = N + M + 1\n",
    "MAX_EDGE = 1000\n",
    "MAX_DEG = 450\n",
    "ITERATIONS = 50000\n",
    "S1 = 0.\n",
    "T1 = 1.\n",
    "S2 = 0.\n",
    "T2 = 1.\n",
    "beta = 0.1\n",
    "NUMGRAPH = 2\n",
    "NSIM = 1\n",
    "NAME = \"lucassimoes\""
   ]
  },
  {
   "cell_type": "code",
   "execution_count": 4,
   "metadata": {
    "collapsed": false
   },
   "outputs": [],
   "source": [
    "# initial fraction of cooperators\n",
    "p1, p2 = .5, .5\n",
    "# number of cooperators\n",
    "cc1, cc2 = 0, 0\n",
    "# fraction of cooperators\n",
    "r1, r2 = np.zeros(ITERATIONS + 1, dtype=np.float), np.zeros(ITERATIONS + 1, dtype=np.float)\n",
    "\n",
    "payoff = np.array(\n",
    "        [\n",
    "            [1, S1],\n",
    "            [T1, 0]\n",
    "        ]\n",
    "        , dtype=np.float, ndmin=2)\n",
    "\n",
    "payoff2 = np.array(\n",
    "        [\n",
    "            [1, S2],\n",
    "            [T2, 0]\n",
    "        ]\n",
    "        , dtype=np.float, ndmin=2)"
   ]
  },
  {
   "cell_type": "code",
   "execution_count": null,
   "metadata": {
    "collapsed": false
   },
   "outputs": [],
   "source": [
    "def interaction(x, y):\n",
    "    if x < N:\n",
    "        return payoff[g.node[x]['strategy']][g.node[y]['strategy']]\n",
    "    else:\n",
    "        return payoff2[g.node[x]['strategy']][g.node[y]['strategy']]\n",
    "\n",
    "\n",
    "def change_prob(x, y):\n",
    "    return 1. / (1 + np.exp(-beta * (y - x)))\n",
    "\n",
    "\n",
    "def complete():\n",
    "    return nx.complete_bipartite_graph(N, M)\n",
    "\n",
    "\n",
    "def random():\n",
    "    g = nx.Graph()\n",
    "    g.add_nodes_from(np.arange(0, N + M, 1, dtype=np.int))\n",
    "    while g.number_of_edges() < MAX_EDGE:\n",
    "        a, b = rd.randint(0, N - 1), rd.randint(N, N + M - 1)\n",
    "        if b not in g[a]:\n",
    "            g.add_edge(a, b)\n",
    "\n",
    "    return g\n",
    "\n",
    "\n",
    "def set_initial_strategy(g):\n",
    "    global cc1, cc2\n",
    "    coop = range(0, int(p1 * N), 1) + range(N, int(p2 * M) + N, 1)\n",
    "    cc1 = int(p1 * N)\n",
    "    defect = set(range(0, N + M, 1)) - set(coop)\n",
    "    cc2 = int(p2 * M)\n",
    "    coop = dict(zip(coop, len(coop) * [0]))\n",
    "    defect = dict(zip(defect, len(defect) * [1]))\n",
    "    nx.set_node_attributes(g, 'strategy', coop)\n",
    "    nx.set_node_attributes(g, 'strategy', defect)\n",
    "\n",
    "\n",
    "def fitness(x):\n",
    "    ret = 0\n",
    "    for i in g.neighbors(x):\n",
    "        ret += interaction(x, i)\n",
    "    return ret\n",
    "\n",
    "\n",
    "def simulate():\n",
    "    global cc1, cc2\n",
    "    it = 0\n",
    "    while it < ITERATIONS:\n",
    "        it += 1\n",
    "        if it % 2:\n",
    "            a = rd.randint(0, N - 1)\n",
    "        else:\n",
    "            a = rd.randint(N, N + M - 1)\n",
    "        if len(g.neighbors(a)) == 0:\n",
    "            it -= 1\n",
    "            continue\n",
    "        b = g.neighbors(a)[rd.randint(0, len(g.neighbors(a)) - 1)]\n",
    "        b = g.neighbors(b)[rd.randint(0, len(g.neighbors(b)) - 1)]\n",
    "        if a == b:\n",
    "            it -= 1\n",
    "            continue\n",
    "\n",
    "        assert (a < N and b < N) or (a >= N and b >= N)\n",
    "        if g.node[a]['strategy'] != g.node[b]['strategy']:\n",
    "            fa, fb = fitness(a), fitness(b)\n",
    "            l = np.random.random()\n",
    "            p = change_prob(fa, fb)\n",
    "            if l <= p:\n",
    "                if a < N:\n",
    "                    if g.node[a]['strategy'] == 0:\n",
    "                        cc1 -= 1\n",
    "                    else:\n",
    "                        cc1 += 1\n",
    "                else:\n",
    "                    if g.node[a]['strategy'] == 0:\n",
    "                        cc2 -= 1\n",
    "                    else:\n",
    "                        cc2 += 1\n",
    "                nx.set_node_attributes(g, 'strategy', { a:g.node[b]['strategy'] })\n",
    "\n",
    "        r1[it] = float(cc1) / N\n",
    "        r2[it] = float(cc2) / M"
   ]
  },
  {
   "cell_type": "code",
   "execution_count": null,
   "metadata": {
    "collapsed": false
   },
   "outputs": [],
   "source": [
    "nbins = 10\n",
    "T1range = np.linspace(1,2,3)\n",
    "S1range = np.linspace(-1,0,3)\n",
    "T2range = np.linspace(1,2,nbins)\n",
    "S2range = np.linspace(-1,0,nbins)\n",
    "\n",
    "mag1 = np.zeros((nbins, nbins), dtype=np.float)\n",
    "mag2 = np.zeros((nbins, nbins), dtype=np.float)\n",
    "\n",
    "for G in xrange(NUMGRAPH):\n",
    "    g = random()\n",
    "    i = 0\n",
    "    data = Data()\n",
    "\n",
    "    for S1 in S1range:\n",
    "        j = 0\n",
    "        for T1 in T1range:\n",
    "            global payoff, payoff2\n",
    "            for S2 in S2range:\n",
    "                for T2 in T2range:\n",
    "                    payoff = np.array([\n",
    "                        [1, S1],\n",
    "                        [T1, 0]], dtype=np.float, ndmin=2)\n",
    "            \n",
    "                    payoff2 = np.array([\n",
    "                        [1, S2],\n",
    "                        [T2, 0]], dtype=np.float, ndmin=2)\n",
    "                \n",
    "                    for SS in xrange(NSIM):\n",
    "                        mag1 = np.zeros((nbins, nbins), dtype=np.float)\n",
    "                        mag2 = np.zeros((nbins, nbins), dtype=np.float)\n",
    "        \n",
    "                        set_initial_strategy(g)\n",
    "                        simulate()\n",
    "                        \n",
    "                        mag1[i][j] = np.mean(r1[-1000:])\n",
    "                        mag2[i][j] = np.mean(r2[-1000:])\n",
    "                        data.m_list1.append((S1, T1, S2, T2, mag1))\n",
    "                        data.m_list2.append((S1, T1, S2, T2, mag2))\n",
    "\n",
    "            j += 1\n",
    "        i += 1\n",
    "    f = open('random graph {1} {0}.grph'.format(G, NAME), 'w')\n",
    "    dump(data,f,2)\n",
    "    f.close()\n",
    "    \n",
    "    print(\"Finished Graph {0}\".format(G))\n"
   ]
  },
  {
   "cell_type": "code",
   "execution_count": null,
   "metadata": {
    "collapsed": false
   },
   "outputs": [],
   "source": [
    "g = complete()\n",
    "i = 0\n",
    "data = Data()\n",
    "for S1 in S1range:\n",
    "    j = 0\n",
    "    for T1 in T1range:\n",
    "        global payoff, payoff2\n",
    "        for S2 in S2range:\n",
    "            for T2 in T2range:\n",
    "                payoff = np.array([\n",
    "                    [1, S1],\n",
    "                    [T1, 0]], dtype=np.float, ndmin=2)\n",
    "        \n",
    "                payoff2 = np.array([\n",
    "                    [1, S2],\n",
    "                    [T2, 0]], dtype=np.float, ndmin=2)\n",
    "            \n",
    "                for SS in xrange(NSIM):\n",
    "                    mag1 = np.zeros((nbins, nbins), dtype=np.float)\n",
    "                    mag2 = np.zeros((nbins, nbins), dtype=np.float)\n",
    "    \n",
    "                    set_initial_strategy(g)\n",
    "                    simulate()\n",
    "                    \n",
    "                    mag1[i][j] = np.mean(r1[-1000:])\n",
    "                    mag2[i][j] = np.mean(r2[-1000:])\n",
    "                    data.m_list1.append((S1, T1, S2, T2, mag1))\n",
    "                    data.m_list2.append((S1, T1, S2, T2, mag2))\n",
    "\n",
    "        j += 1\n",
    "    i += 1\n",
    "f = open('complete graph {1} {0}.grph'.format(G, NAME), 'w')\n",
    "dump(data,f,2)\n",
    "f.close()\n",
    "\n",
    "print(\"Finished Graph {0}\".format(G))"
   ]
  },
  {
   "cell_type": "code",
   "execution_count": null,
   "metadata": {
    "collapsed": true
   },
   "outputs": [],
   "source": [
    "p = './graphs/'\n",
    "sc_graphs = []\n",
    "for _,_,c in os.walk(p):\n",
    "    for a,x in enumerate(c):\n",
    "        pp = os.path.join(p,x)\n",
    "        f = open(pp, 'r')\n",
    "        g = load(f)\n",
    "        sc_graphs.append(g)\n"
   ]
  },
  {
   "cell_type": "code",
   "execution_count": null,
   "metadata": {
    "collapsed": false
   },
   "outputs": [],
   "source": [
    "for G, g in sc_graphs:\n",
    "    i = 0\n",
    "    data = Data()\n",
    "\n",
    "    for S1 in S1range:\n",
    "        j = 0\n",
    "        for T1 in T1range:\n",
    "            global payoff, payoff2\n",
    "            for S2 in S2range:\n",
    "                for T2 in T2range:\n",
    "                    payoff = np.array([\n",
    "                        [1, S1],\n",
    "                        [T1, 0]], dtype=np.float, ndmin=2)\n",
    "            \n",
    "                    payoff2 = np.array([\n",
    "                        [1, S2],\n",
    "                        [T2, 0]], dtype=np.float, ndmin=2)\n",
    "                \n",
    "                    for SS in xrange(NSIM):\n",
    "                        mag1 = np.zeros((nbins, nbins), dtype=np.float)\n",
    "                        mag2 = np.zeros((nbins, nbins), dtype=np.float)\n",
    "        \n",
    "                        set_initial_strategy(g)\n",
    "                        simulate()\n",
    "                        \n",
    "                        mag1[i][j] = np.mean(r1[-1000:])\n",
    "                        mag2[i][j] = np.mean(r2[-1000:])\n",
    "                        data.m_list1.append((S1, T1, S2, T2, mag1))\n",
    "                        data.m_list2.append((S1, T1, S2, T2, mag2))\n",
    "\n",
    "            j += 1\n",
    "        i += 1\n",
    "    f = open('scalefree graph {1} {0}.grph'.format(G, NAME), 'w')\n",
    "    dump(data,f,2)\n",
    "    f.close()\n",
    "    \n",
    "    print(\"Finished Graph {0}\".format(G))\n"
   ]
  },
  {
   "cell_type": "code",
   "execution_count": null,
   "metadata": {
    "collapsed": true
   },
   "outputs": [],
   "source": []
  }
 ],
 "metadata": {
  "kernelspec": {
   "display_name": "Python 2",
   "language": "python2",
   "name": "python2"
  },
  "language_info": {
   "codemirror_mode": {
    "name": "ipython",
    "version": 2
   },
   "file_extension": ".py",
   "mimetype": "text/x-python",
   "name": "python",
   "nbconvert_exporter": "python",
   "pygments_lexer": "ipython2",
   "version": "2.7.11"
  }
 },
 "nbformat": 4,
 "nbformat_minor": 0
}
