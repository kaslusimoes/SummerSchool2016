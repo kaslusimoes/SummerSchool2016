{
 "metadata": {
  "name": "simulation"
 },
 "nbformat": 3,
 "nbformat_minor": 0,
 "worksheets": [
  {
   "cells": [
    {
     "cell_type": "code",
     "collapsed": false,
     "input": "import numpy as np\nimport networkx as nx\nimport matplotlib.pyplot as plt\nimport random as rd\n%matplotlib inline ",
     "language": "python",
     "metadata": {},
     "outputs": [],
     "prompt_number": "*"
    },
    {
     "cell_type": "code",
     "collapsed": false,
     "input": "N = 100\nM = 100\nMAX = N + M + 1\nMAX_EDGE = 1000\nMAX_DEG = 450\nITERATIONS = 50000\nS1 = 0.\nT1 = 1.\nS2 = 0.\nT2 = 1.\nbeta = 0.1\nNUMGRAPH = 4\nNUMSIM = 1",
     "language": "python",
     "metadata": {},
     "outputs": [],
     "prompt_number": "*"
    },
    {
     "cell_type": "code",
     "collapsed": false,
     "input": "# initial fraction of cooperators\np1, p2 = .5, .5\n# number of cooperators\ncc1, cc2 = 0, 0\n# fraction of cooperators\nr1, r2 = np.zeros(ITERATIONS + 1, dtype=np.float), np.zeros(ITERATIONS + 1, dtype=np.float)\n\npayoff = np.array(\n        [\n            [1, S1],\n            [T1, 0]\n        ]\n        , dtype=np.float, ndmin=2)\n\npayoff2 = np.array(\n        [\n            [1, S2],\n            [T2, 0]\n        ]\n        , dtype=np.float, ndmin=2)",
     "language": "python",
     "metadata": {},
     "outputs": [],
     "prompt_number": "*"
    },
    {
     "cell_type": "code",
     "collapsed": false,
     "input": "def interaction(x, y):\n    if x < N:\n        return payoff[g.node[x]['strategy']][g.node[y]['strategy']]\n    else:\n        return payoff2[g.node[x]['strategy']][g.node[y]['strategy']]\n\n\ndef change_prob(x, y):\n    return 1. / (1 + np.exp(-beta * (y - x)))\n\n\ndef complete():\n    return nx.complete_bipartite_graph(N, M)\n\n\ndef random():\n    g = nx.Graph()\n    g.add_nodes_from(np.arange(0, N + M, 1, dtype=np.int))\n    while g.number_of_edges() < MAX_EDGE:\n        a, b = rd.randint(0, N - 1), rd.randint(N, N + M - 1)\n        if b not in g[a]:\n            g.add_edge(a, b)\n\n    return g\n\n\ndef set_initial_strategy(g):\n    global cc1, cc2\n    coop = range(0, int(p1 * N), 1) + range(N, int(p2 * M) + N, 1)\n    cc1 = int(p1 * N)\n    defect = set(range(0, N + M, 1)) - set(coop)\n    cc2 = int(p2 * M)\n    coop = dict(zip(coop, len(coop) * [0]))\n    defect = dict(zip(defect, len(defect) * [1]))\n    nx.set_node_attributes(g, 'strategy', coop)\n    nx.set_node_attributes(g, 'strategy', defect)\n\n\ndef fitness(x):\n    ret = 0\n    for i in g.neighbors(x):\n        ret += interaction(x, i)\n    return ret\n\n\ndef simulate():\n    global cc1, cc2\n    it = 0\n    while it < ITERATIONS:\n        it += 1\n        if it % 2:\n            a = rd.randint(0, N - 1)\n        else:\n            a = rd.randint(N, N + M - 1)\n        if len(g.neighbors(a)) == 0:\n            it -= 1\n            continue\n        b = g.neighbors(a)[rd.randint(0, len(g.neighbors(a)) - 1)]\n        b = g.neighbors(b)[rd.randint(0, len(g.neighbors(b)) - 1)]\n        if a == b:\n            it -= 1\n            continue\n\n        assert (a < N and b < N) or (a >= N and b >= N)\n        if g.node[a]['strategy'] != g.node[b]['strategy']:\n            fa, fb = fitness(a), fitness(b)\n            l = np.random.random()\n            p = change_prob(fa, fb)\n            if l <= p:\n                if a < N:\n                    if g.node[a]['strategy'] == 0:\n                        cc1 -= 1\n                    else:\n                        cc1 += 1\n                else:\n                    if g.node[a]['strategy'] == 0:\n                        cc2 -= 1\n                    else:\n                        cc2 += 1\n                nx.set_node_attributes(g, 'strategy', { a:g.node[b]['strategy'] })\n\n        r1[it] = float(cc1) / N\n        r2[it] = float(cc2) / M\n\n    #print('simulation finished')\n",
     "language": "python",
     "metadata": {},
     "outputs": [],
     "prompt_number": "*"
    },
    {
     "cell_type": "code",
     "collapsed": false,
     "input": "# g = complete()\ng = random()\n\nset_initial_strategy(g)\n\npos = nx.shell_layout(g)\nlabels = { }\nfor i in xrange(0, N + M, 1):\n    labels[i] = 'C' if g.node[i]['strategy'] == 0 else 'D'\nnx.draw_networkx_nodes(g, pos, nodelist=range(0, N, 1), node_color='r')\nnx.draw_networkx_nodes(g, pos, nodelist=range(N, N + M, 1), node_color='b')\nnx.draw_networkx_edges(g, pos, width=1.0, alpha=0.5)\nnx.draw_networkx_labels(g, pos, labels, font_color='w')\n\nplt.show()",
     "language": "python",
     "metadata": {},
     "outputs": [],
     "prompt_number": "*"
    },
    {
     "cell_type": "code",
     "collapsed": false,
     "input": "simulate()\n\nlabels = { }\nfor i in xrange(0, N + M, 1):\n    labels[i] = 'C' if g.node[i]['strategy'] == 0 else 'D'\nnx.draw_networkx_nodes(g, pos, nodelist=range(0, N, 1), node_color='r')\nnx.draw_networkx_nodes(g, pos, nodelist=range(N, N + M, 1), node_color='b', node_shape='s')\nnx.draw_networkx_edges(g, pos, width=1.0, alpha=0.5)\nnx.draw_networkx_labels(g, pos, labels, font_color='w')\n\nplt.show()",
     "language": "python",
     "metadata": {},
     "outputs": [],
     "prompt_number": "*"
    },
    {
     "cell_type": "code",
     "collapsed": false,
     "input": "plt.plot(r1, color='r')\nplt.plot(r2, color='b')\nplt.show()",
     "language": "python",
     "metadata": {},
     "outputs": [],
     "prompt_number": "*"
    },
    {
     "cell_type": "code",
     "collapsed": false,
     "input": "nbins = 20\nTrange = np.linspace(1,2,nbins)\nSrange = np.linspace(-1,0,nbins)\nmag1 = np.zeros((nbins, nbins), dtype=np.float)\nmag2 = np.zeros((nbins, nbins), dtype=np.float)\n\nprint(\"FUCK\")\nfor G in xrange(NUMGRAPH):\n    g = random()\n    i = 0\n    print(\"Graph \", G)\n    for S1 in Srange:\n        S2 = S1\n        j = 0\n        for T1 in Trange:\n            global payoff, payoff2\n            T2 = T1\n            \n            payoff = np.array(\n            [\n                [1, S1],\n                [T1, 0]\n            ]\n            , dtype=np.float, ndmin=2)\n    \n            payoff2 = np.array(\n            [\n                [1, S2],\n                [T2, 0]\n            ]\n            , dtype=np.float, ndmin=2)\n            for SS in xrange(NUMSIM):\n                set_initial_strategy(g)\n                simulate()\n                \n#                 if np.std(r1[-1000:]) > 0.01 or np.std(r2[-1000:]) > 0.01:\n#                     print(\"Std grater than 0.1\", T1, S1)\n                mag1[i][j] += np.mean(r1[-1000:])\n                mag2[i][j] += np.mean(r2[-1000:])\n#                 print(\"\\nFinished Simulation {0} on graph {1}\".format(SS,G))\n\n            j += 1\n        i += 1\n    print(\"Finished Graph {0}\".format(G))\n\nmag1 /= (NUMGRAPH*NUMSIM)\nmag2 /= (NUMGRAPH*NUMSIM)\nplt.imshow(mag1, extent=[1, 2, -1, 0], aspect=\"auto\", origin=\"lower\")\nplt.colorbar()\nplt.title(\"Population 1\")\nplt.xlabel(\"T\")\nplt.ylabel(\"S\")\nsavefig(\"heatmap1.png\")",
     "language": "python",
     "metadata": {},
     "outputs": [],
     "prompt_number": "*"
    },
    {
     "cell_type": "code",
     "collapsed": false,
     "input": "plt.imshow(mag2, extent=[1, 2, -1, 0], aspect=\"auto\", origin=\"lower\")\nplt.colorbar()\nplt.title(\"Population 2\")\nplt.xlabel(\"T\")\nplt.ylabel(\"S\")\nsavefig(\"heatmap2.png\")",
     "language": "python",
     "metadata": {},
     "outputs": [],
     "prompt_number": "*"
    },
    {
     "cell_type": "code",
     "collapsed": false,
     "input": "",
     "language": "python",
     "metadata": {},
     "outputs": [],
     "prompt_number": "*"
    }
   ],
   "metadata": {}
  }
 ]
}