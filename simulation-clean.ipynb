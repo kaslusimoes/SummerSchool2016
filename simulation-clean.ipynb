{
 "metadata": {
  "name": ""
 },
 "nbformat": 3,
 "nbformat_minor": 0,
 "worksheets": [
  {
   "cells": [
    {
     "cell_type": "code",
     "collapsed": false,
     "input": [
      "import numpy as np\n",
      "import networkx as nx\n",
      "import matplotlib.pyplot as plt\n",
      "import random as rd\n",
      "from pickle import dump\n",
      "%matplotlib inline "
     ],
     "language": "python",
     "metadata": {},
     "outputs": [],
     "prompt_number": 26
    },
    {
     "cell_type": "code",
     "collapsed": false,
     "input": [
      "class Data:\n",
      "    def __init__(self):\n",
      "        self.m_list1 = []\n",
      "        self.m_list2 = []"
     ],
     "language": "python",
     "metadata": {},
     "outputs": []
    },
    {
     "cell_type": "code",
     "collapsed": false,
     "input": [
      "N = 100\n",
      "M = 100\n",
      "MAX = N + M + 1\n",
      "MAX_EDGE = 1000\n",
      "MAX_DEG = 450\n",
      "ITERATIONS = 50000\n",
      "S1 = 0.\n",
      "T1 = 1.\n",
      "S2 = 0.\n",
      "T2 = 1.\n",
      "beta = 0.1\n",
      "NUMGRAPH = 10\n",
      "NSIM = 5"
     ],
     "language": "python",
     "metadata": {},
     "outputs": [],
     "prompt_number": 27
    },
    {
     "cell_type": "code",
     "collapsed": false,
     "input": [
      "# initial fraction of cooperators\n",
      "p1, p2 = .5, .5\n",
      "# number of cooperators\n",
      "cc1, cc2 = 0, 0\n",
      "# fraction of cooperators\n",
      "r1, r2 = np.zeros(ITERATIONS + 1, dtype=np.float), np.zeros(ITERATIONS + 1, dtype=np.float)\n",
      "\n",
      "payoff = np.array(\n",
      "        [\n",
      "            [1, S1],\n",
      "            [T1, 0]\n",
      "        ]\n",
      "        , dtype=np.float, ndmin=2)\n",
      "\n",
      "payoff2 = np.array(\n",
      "        [\n",
      "            [1, S2],\n",
      "            [T2, 0]\n",
      "        ]\n",
      "        , dtype=np.float, ndmin=2)"
     ],
     "language": "python",
     "metadata": {},
     "outputs": [],
     "prompt_number": 28
    },
    {
     "cell_type": "code",
     "collapsed": false,
     "input": [
      "def interaction(x, y):\n",
      "    if x < N:\n",
      "        return payoff[g.node[x]['strategy']][g.node[y]['strategy']]\n",
      "    else:\n",
      "        return payoff2[g.node[x]['strategy']][g.node[y]['strategy']]\n",
      "\n",
      "\n",
      "def change_prob(x, y):\n",
      "    return 1. / (1 + np.exp(-beta * (y - x)))\n",
      "\n",
      "\n",
      "def complete():\n",
      "    return nx.complete_bipartite_graph(N, M)\n",
      "\n",
      "\n",
      "def random():\n",
      "    g = nx.Graph()\n",
      "    g.add_nodes_from(np.arange(0, N + M, 1, dtype=np.int))\n",
      "    while g.number_of_edges() < MAX_EDGE:\n",
      "        a, b = rd.randint(0, N - 1), rd.randint(N, N + M - 1)\n",
      "        if b not in g[a]:\n",
      "            g.add_edge(a, b)\n",
      "\n",
      "    return g\n",
      "\n",
      "\n",
      "def set_initial_strategy(g):\n",
      "    global cc1, cc2\n",
      "    coop = range(0, int(p1 * N), 1) + range(N, int(p2 * M) + N, 1)\n",
      "    cc1 = int(p1 * N)\n",
      "    defect = set(range(0, N + M, 1)) - set(coop)\n",
      "    cc2 = int(p2 * M)\n",
      "    coop = dict(zip(coop, len(coop) * [0]))\n",
      "    defect = dict(zip(defect, len(defect) * [1]))\n",
      "    nx.set_node_attributes(g, 'strategy', coop)\n",
      "    nx.set_node_attributes(g, 'strategy', defect)\n",
      "\n",
      "\n",
      "def fitness(x):\n",
      "    ret = 0\n",
      "    for i in g.neighbors(x):\n",
      "        ret += interaction(x, i)\n",
      "    return ret\n",
      "\n",
      "\n",
      "def simulate():\n",
      "    global cc1, cc2\n",
      "    it = 0\n",
      "    while it < ITERATIONS:\n",
      "        it += 1\n",
      "        if it % 2:\n",
      "            a = rd.randint(0, N - 1)\n",
      "        else:\n",
      "            a = rd.randint(N, N + M - 1)\n",
      "        if len(g.neighbors(a)) == 0:\n",
      "            it -= 1\n",
      "            continue\n",
      "        b = g.neighbors(a)[rd.randint(0, len(g.neighbors(a)) - 1)]\n",
      "        b = g.neighbors(b)[rd.randint(0, len(g.neighbors(b)) - 1)]\n",
      "        if a == b:\n",
      "            it -= 1\n",
      "            continue\n",
      "\n",
      "        assert (a < N and b < N) or (a >= N and b >= N)\n",
      "        if g.node[a]['strategy'] != g.node[b]['strategy']:\n",
      "            fa, fb = fitness(a), fitness(b)\n",
      "            l = np.random.random()\n",
      "            p = change_prob(fa, fb)\n",
      "            if l <= p:\n",
      "                if a < N:\n",
      "                    if g.node[a]['strategy'] == 0:\n",
      "                        cc1 -= 1\n",
      "                    else:\n",
      "                        cc1 += 1\n",
      "                else:\n",
      "                    if g.node[a]['strategy'] == 0:\n",
      "                        cc2 -= 1\n",
      "                    else:\n",
      "                        cc2 += 1\n",
      "                nx.set_node_attributes(g, 'strategy', { a:g.node[b]['strategy'] })\n",
      "\n",
      "        r1[it] = float(cc1) / N\n",
      "        r2[it] = float(cc2) / M"
     ],
     "language": "python",
     "metadata": {},
     "outputs": [],
     "prompt_number": 29
    },
    {
     "cell_type": "code",
     "collapsed": false,
     "input": [
      "nbins = 5\n",
      "Trange = np.linspace(1,2,nbins)\n",
      "Srange = np.linspace(-1,0,nbins)\n",
      "mag1 = np.zeros((nbins, nbins), dtype=np.float)\n",
      "mag2 = np.zeros((nbins, nbins), dtype=np.float)\n",
      "\n",
      "for G in xrange(NUMGRAPH):\n",
      "    # g = complete()\n",
      "    g = random()\n",
      "    i = 0\n",
      "    data = Data()\n",
      "\n",
      "    for S1 in Srange:\n",
      "        S2 = S1\n",
      "        j = 0\n",
      "        for T1 in Trange:\n",
      "            global payoff, payoff2\n",
      "            T2 = T1\n",
      "            \n",
      "            payoff = np.array([\n",
      "                [1, S1],\n",
      "                [T1, 0]], dtype=np.float, ndmin=2)\n",
      "    \n",
      "            payoff2 = np.array([\n",
      "                [1, S2],\n",
      "                [T2, 0]], dtype=np.float, ndmin=2)\n",
      "        \n",
      "            for SS in xrange(NSIM):\n",
      "                mag1 = np.zeros((nbins, nbins), dtype=np.float)\n",
      "                mag2 = np.zeros((nbins, nbins), dtype=np.float)\n",
      "\n",
      "                set_initial_strategy(g)\n",
      "                simulate()\n",
      "                \n",
      "                if np.std(r1[-1000:]) > 0.01 or np.std(r2[-1000:]) > 0.01:\n",
      "                    print(\"Std grater than 0.1\", T1, S1)\n",
      "                mag1[i][j] = np.mean(r1[-1000:])\n",
      "                mag2[i][j] = np.mean(r2[-1000:])\n",
      "                data.m_list1.append(mag1)\n",
      "                data.m_list2.append(mag2)\n",
      "                \n",
      "    #                 print(\"\\nFinished Simulation {0} on graph {1}\".format(SS,G))\n",
      "\n",
      "            j += 1\n",
      "        i += 1\n",
      "    f = open('graph{0}'.format(G), 'w')\n",
      "    dump(data,f,2)\n",
      "    f.close()\n",
      "    \n",
      "    print(\"Finished Graph {0}\".format(G))\n",
      "\n",
      "mag1 /= (NUMGRAPH*NSIM)\n",
      "mag2 /= (NUMGRAPH*NSIM)"
     ],
     "language": "python",
     "metadata": {},
     "outputs": [
      {
       "output_type": "stream",
       "stream": "stdout",
       "text": [
        "('Std grater than 0.1', 1.0, 0.0)\n",
        "('Std grater than 0.1', 1.25, 0.0)"
       ]
      },
      {
       "output_type": "stream",
       "stream": "stdout",
       "text": [
        "\n",
        "('Std grater than 0.1', 1.25, 0.0)"
       ]
      },
      {
       "output_type": "stream",
       "stream": "stdout",
       "text": [
        "\n",
        "('Std grater than 0.1', 1.5, 0.0)"
       ]
      },
      {
       "output_type": "stream",
       "stream": "stdout",
       "text": [
        "\n",
        "('Std grater than 0.1', 1.5, 0.0)"
       ]
      },
      {
       "output_type": "stream",
       "stream": "stdout",
       "text": [
        "\n",
        "('Std grater than 0.1', 1.75, 0.0)"
       ]
      },
      {
       "output_type": "stream",
       "stream": "stdout",
       "text": [
        "\n",
        "('Std grater than 0.1', 2.0, 0.0)"
       ]
      },
      {
       "output_type": "stream",
       "stream": "stdout",
       "text": [
        "\n",
        "Finished Graph 0"
       ]
      },
      {
       "output_type": "stream",
       "stream": "stdout",
       "text": [
        "\n",
        "('Std grater than 0.1', 1.0, 0.0)"
       ]
      },
      {
       "output_type": "stream",
       "stream": "stdout",
       "text": [
        "\n",
        "('Std grater than 0.1', 1.5, 0.0)"
       ]
      },
      {
       "output_type": "stream",
       "stream": "stdout",
       "text": [
        "\n",
        "('Std grater than 0.1', 1.75, 0.0)"
       ]
      },
      {
       "output_type": "stream",
       "stream": "stdout",
       "text": [
        "\n",
        "Finished Graph 1"
       ]
      },
      {
       "output_type": "stream",
       "stream": "stdout",
       "text": [
        "\n",
        "('Std grater than 0.1', 1.75, 0.0)"
       ]
      },
      {
       "output_type": "stream",
       "stream": "stdout",
       "text": [
        "\n",
        "Finished Graph 2"
       ]
      },
      {
       "output_type": "stream",
       "stream": "stdout",
       "text": [
        "\n",
        "('Std grater than 0.1', 1.0, 0.0)"
       ]
      },
      {
       "output_type": "stream",
       "stream": "stdout",
       "text": [
        "\n",
        "('Std grater than 0.1', 1.5, 0.0)"
       ]
      },
      {
       "output_type": "stream",
       "stream": "stdout",
       "text": [
        "\n",
        "('Std grater than 0.1', 1.75, 0.0)"
       ]
      },
      {
       "output_type": "stream",
       "stream": "stdout",
       "text": [
        "\n",
        "Finished Graph 3"
       ]
      },
      {
       "output_type": "stream",
       "stream": "stdout",
       "text": [
        "\n",
        "('Std grater than 0.1', 1.0, 0.0)"
       ]
      },
      {
       "output_type": "stream",
       "stream": "stdout",
       "text": [
        "\n",
        "('Std grater than 0.1', 1.5, 0.0)"
       ]
      },
      {
       "output_type": "stream",
       "stream": "stdout",
       "text": [
        "\n",
        "('Std grater than 0.1', 2.0, 0.0)"
       ]
      },
      {
       "output_type": "stream",
       "stream": "stdout",
       "text": [
        "\n",
        "Finished Graph 4"
       ]
      },
      {
       "output_type": "stream",
       "stream": "stdout",
       "text": [
        "\n",
        "('Std grater than 0.1', 1.0, 0.0)"
       ]
      },
      {
       "output_type": "stream",
       "stream": "stdout",
       "text": [
        "\n",
        "('Std grater than 0.1', 1.25, 0.0)"
       ]
      },
      {
       "output_type": "stream",
       "stream": "stdout",
       "text": [
        "\n",
        "('Std grater than 0.1', 1.5, 0.0)"
       ]
      },
      {
       "output_type": "stream",
       "stream": "stdout",
       "text": [
        "\n",
        "('Std grater than 0.1', 2.0, 0.0)"
       ]
      },
      {
       "output_type": "stream",
       "stream": "stdout",
       "text": [
        "\n",
        "Finished Graph 5"
       ]
      },
      {
       "output_type": "stream",
       "stream": "stdout",
       "text": [
        "\n",
        "('Std grater than 0.1', 1.25, 0.0)"
       ]
      },
      {
       "output_type": "stream",
       "stream": "stdout",
       "text": [
        "\n",
        "('Std grater than 0.1', 2.0, 0.0)"
       ]
      },
      {
       "output_type": "stream",
       "stream": "stdout",
       "text": [
        "\n",
        "Finished Graph 6\n",
        "('Std grater than 0.1', 1.0, 0.0)"
       ]
      },
      {
       "output_type": "stream",
       "stream": "stdout",
       "text": [
        "\n",
        "('Std grater than 0.1', 1.0, 0.0)"
       ]
      },
      {
       "output_type": "stream",
       "stream": "stdout",
       "text": [
        "\n",
        "('Std grater than 0.1', 1.25, 0.0)"
       ]
      },
      {
       "output_type": "stream",
       "stream": "stdout",
       "text": [
        "\n",
        "Finished Graph 7"
       ]
      },
      {
       "output_type": "stream",
       "stream": "stdout",
       "text": [
        "\n",
        "('Std grater than 0.1', 1.0, 0.0)"
       ]
      },
      {
       "output_type": "stream",
       "stream": "stdout",
       "text": [
        "\n",
        "('Std grater than 0.1', 1.25, 0.0)"
       ]
      },
      {
       "output_type": "stream",
       "stream": "stdout",
       "text": [
        "\n",
        "('Std grater than 0.1', 1.25, 0.0)"
       ]
      },
      {
       "output_type": "stream",
       "stream": "stdout",
       "text": [
        "\n",
        "('Std grater than 0.1', 1.75, 0.0)"
       ]
      },
      {
       "output_type": "stream",
       "stream": "stdout",
       "text": [
        "\n",
        "('Std grater than 0.1', 1.75, 0.0)"
       ]
      },
      {
       "output_type": "stream",
       "stream": "stdout",
       "text": [
        "\n",
        "('Std grater than 0.1', 2.0, 0.0)"
       ]
      },
      {
       "output_type": "stream",
       "stream": "stdout",
       "text": [
        "\n",
        "Finished Graph 8"
       ]
      },
      {
       "output_type": "stream",
       "stream": "stdout",
       "text": [
        "\n",
        "('Std grater than 0.1', 1.25, 0.0)"
       ]
      },
      {
       "output_type": "stream",
       "stream": "stdout",
       "text": [
        "\n",
        "('Std grater than 0.1', 1.25, 0.0)"
       ]
      },
      {
       "output_type": "stream",
       "stream": "stdout",
       "text": [
        "\n",
        "('Std grater than 0.1', 1.25, 0.0)"
       ]
      },
      {
       "output_type": "stream",
       "stream": "stdout",
       "text": [
        "\n",
        "('Std grater than 0.1', 1.5, 0.0)"
       ]
      },
      {
       "output_type": "stream",
       "stream": "stdout",
       "text": [
        "\n",
        "('Std grater than 0.1', 1.5, 0.0)"
       ]
      },
      {
       "output_type": "stream",
       "stream": "stdout",
       "text": [
        "\n",
        "('Std grater than 0.1', 1.75, 0.0)"
       ]
      },
      {
       "output_type": "stream",
       "stream": "stdout",
       "text": [
        "\n",
        "Finished Graph 9"
       ]
      },
      {
       "output_type": "stream",
       "stream": "stdout",
       "text": [
        "\n"
       ]
      }
     ],
     "prompt_number": 30
    },
    {
     "cell_type": "code",
     "collapsed": false,
     "input": [
      "plt.imshow(mag1, extent=[1, 2, -1, 0], aspect=\"auto\", origin=\"lower\")\n",
      "plt.colorbar()\n",
      "plt.title(\"Population 1\")\n",
      "plt.xlabel(\"T\")\n",
      "plt.ylabel(\"S\")\n",
      "plt.savefig(\"heatmap1.png\")"
     ],
     "language": "python",
     "metadata": {},
     "outputs": [
      {
       "metadata": {},
       "output_type": "display_data",
       "png": "[encoded data removed]",
       "text": [
        "<matplotlib.figure.Figure at 0x7f9129bdff50>"
       ]
      }
     ],
     "prompt_number": 31
    },
    {
     "cell_type": "code",
     "collapsed": false,
     "input": [
      "plt.imshow(mag2, extent=[1, 2, -1, 0], aspect=\"auto\", origin=\"lower\")\n",
      "plt.colorbar()\n",
      "plt.title(\"Population 2\")\n",
      "plt.xlabel(\"T\")\n",
      "plt.ylabel(\"S\")\n",
      "plt.savefig(\"heatmap2.png\")"
     ],
     "language": "python",
     "metadata": {},
     "outputs": [
      {
       "metadata": {},
       "output_type": "display_data",
       "png": "[encoded data removed]",
       "text": [
        "<matplotlib.figure.Figure at 0x7f9129a2b610>"
       ]
      }
     ],
     "prompt_number": 32
    }
   ],
   "metadata": {}
  }
 ]
}